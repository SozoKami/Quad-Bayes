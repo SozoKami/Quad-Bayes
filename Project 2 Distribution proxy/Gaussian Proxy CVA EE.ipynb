{
 "cells": [
  {
   "cell_type": "markdown",
   "metadata": {},
   "source": [
    "# Proxy for the Mtm of swaps :"
   ]
  },
  {
   "cell_type": "code",
   "execution_count": 1,
   "metadata": {},
   "outputs": [],
   "source": [
    "project_path = r'C:\\Users\\omirinioui\\PycharmProjects\\Projet Quadrature bayésienne'"
   ]
  },
  {
   "cell_type": "code",
   "execution_count": 2,
   "metadata": {},
   "outputs": [],
   "source": [
    "lib_path = project_path+'\\libraries'\n",
    "port_path = project_path + '\\Data\\portfolio'\n",
    "zc_curve_path = project_path+'\\Data\\ZC Curve'\n",
    "diff_path = project_path + '\\Data\\Diffusion'\n",
    "MC_path =  project_path +'\\Results\\Full MC'\n",
    "img_path = project_path +'\\Results\\Images'\n"
   ]
  },
  {
   "cell_type": "code",
   "execution_count": 3,
   "metadata": {},
   "outputs": [],
   "source": [
    "import matplotlib.pyplot as plt\n",
    "import matplotlib.ticker as mtick\n",
    "import seaborn as sns\n",
    "import numpy as np\n",
    "import pandas as pd\n",
    "\n",
    "import  numpy as np\n",
    "\n",
    "from time import time\n",
    "from datetime import timedelta\n",
    "\n",
    "# importing pacakge \n",
    "import sys         \n",
    "sys.path.append(lib_path)        \n",
    "\n",
    "from main import *\n",
    "from FinancialData import *\n",
    "from Chebychev import *"
   ]
  },
  {
   "cell_type": "code",
   "execution_count": 4,
   "metadata": {},
   "outputs": [],
   "source": [
    "def GPR_Mtm_ploter(t, diff, irs, ZC, nodes_nbr, diag=False) :\n",
    "    train_range = (min(diff.X(t)) , max(diff.X(t)) )\n",
    "\n",
    "    # Pricing to train\n",
    "    train_points = np.linspace(train_range[0], train_range[1], nodes_nbr)\n",
    "    mtm_points = irs.Mtm_mono(t,train_points,ZC,diff.get_LGM_params())\n",
    "\n",
    "    # Train\n",
    "    gpr_model = GaussianProcessRegressor(kernel = kernel, normalize_y=True)\n",
    "    gpr_model.fit(train_points.reshape(nodes_nbr,1), mtm_points.reshape(nodes_nbr,1))\n",
    "\n",
    "\n",
    "    # Mtm Proxy\n",
    "    Mtm = gpr_predictor(gpr_model, np.sort(diff.X(t)).reshape(diff.nbr_scenarios,1))\n",
    "    Mtm_true = irs.Mtm_mono(t, np.sort(diff.X(t)),ZC,diff.get_LGM_params())\n",
    "    \n",
    "    if diag :\n",
    "        plt.plot(Mtm_true,  Mtm_true, c = 'red', label = 'true')\n",
    "        plt.scatter(Mtm_true, Mtm.reshape(diff.nbr_scenarios), label ='GPR')\n",
    "\n",
    "        plt.xlabel('True Mtm', fontsize = 15)   \n",
    "        plt.ylabel('GPR', fontsize = 15) \n",
    "        plt.legend()\n",
    "        plt.title(str(nodes_nbr)+' training points', fontdict = {'fontsize':16})\n",
    "        plt.show()\n",
    "    else :  \n",
    "        N = 400\n",
    "        x_range = np.linspace(train_range[0], train_range[1], N)\n",
    "        plt.plot(x_range, irs.Mtm_mono(t, x_range,ZC,diff.get_LGM_params()) , label='True')\n",
    "\n",
    "        plt.scatter(train_points,mtm_points,c='r')\n",
    "\n",
    "        plt.plot(np.sort(diff.X(t)) , Mtm.reshape(diff.nbr_scenarios) , label='GPR')\n",
    "\n",
    "        plt.legend()\n",
    "        plt.xlabel('$X_{t}$')\n",
    "        plt.ylabel(' Mark-to-Market')\n",
    "        plt.title(str(nodes_nbr) + ' training points' )\n",
    "        plt.show()\n",
    "\n",
    "def Chebyshev_Mtm_ploter(t, diff, irs, ZC, nodes_nbr,diag=False) :\n",
    "    train_range = (min(diff.X(t)) , max(diff.X(t)) )\n",
    "\n",
    "    # Pricing to train\n",
    "    train_points = np.sort(Chebyshev_points(train_range[0], train_range[1], nodes_nbr))\n",
    "    mtm_points = irs.Mtm_mono(t,train_points,ZC,diff.get_LGM_params())\n",
    "\n",
    "\n",
    "    # Mtm Proxy\n",
    "    Mtm = np.array([eval_Barycentric(mtm_points, train_points, x) for x in np.sort(diff.X(t))])\n",
    "    Mtm_true = irs.Mtm_mono(t, np.sort(diff.X(t)),ZC,diff.get_LGM_params())\n",
    "    \n",
    "    if diag :\n",
    "        plt.plot(Mtm_true,  Mtm_true, c = 'red', label = 'true')\n",
    "        plt.scatter(Mtm_true, Mtm, label ='Chebyshev')\n",
    "\n",
    "        plt.xlabel('True Mtm', fontsize = 15)   \n",
    "        plt.ylabel('Chebyshev', fontsize = 15) \n",
    "        plt.legend()\n",
    "        plt.title(str(nodes_nbr)+' training points', fontdict = {'fontsize':16})\n",
    "        plt.show()\n",
    "        \n",
    "    else :  \n",
    "        N = 400\n",
    "        x_range = np.linspace(train_range[0], train_range[1], N)\n",
    "        plt.plot(x_range, irs.Mtm_mono(t, x_range,ZC,diff.get_LGM_params()) , label='true')\n",
    "\n",
    "        plt.scatter(train_points,mtm_points,c='r')\n",
    "        plt.plot(np.sort(diff.X(t)) , Mtm , label='Chebyshev')\n",
    "\n",
    "        plt.legend()\n",
    "        plt.xlabel('$X_{t}$')\n",
    "        plt.ylabel(' Mark-to-Market')\n",
    "        plt.title(str(nodes_nbr) + ' training points' )\n",
    "        plt.show()\n",
    "\n",
    "def Chebyshev_Mtm(t, diff, irs, ZC, nodes_nbr) :\n",
    "    train_range = (min(diff.X(t)) , max(diff.X(t)) )\n",
    "\n",
    "    # Pricing to train\n",
    "    train_points = np.sort(Chebyshev_points(train_range[0], train_range[1], nodes_nbr))\n",
    "    mtm_points = irs.Mtm_mono(t,train_points,ZC,diff.get_LGM_params())\n",
    "\n",
    "\n",
    "    # Mtm Proxy\n",
    "    Mtm = np.array([eval_Barycentric(mtm_points, train_points, x) for x in np.sort(diff.X(t))])\n",
    "    Mtm_true = irs.Mtm_mono(t, np.sort(diff.X(t)),ZC,diff.get_LGM_params())\n",
    "    \n",
    "    return Mtm\n",
    "\n",
    "def GPR_Mtm(t, diff, irs, ZC, nodes_nbr, diag=False) :\n",
    "    train_range = (min(diff.X(t)) , max(diff.X(t)) )\n",
    "\n",
    "    # Pricing to train\n",
    "    train_points = np.linspace(train_range[0], train_range[1], nodes_nbr)\n",
    "    mtm_points = irs.Mtm_mono(t,train_points,ZC,diff.get_LGM_params())\n",
    "    \n",
    "    if (mtm_points == np.zeros(nodes_nbr) ).all():\n",
    "        return 0\n",
    "\n",
    "    # Train\n",
    "    gpr_model = GaussianProcessRegressor(kernel = kernel, normalize_y=True)\n",
    "    gpr_model.fit(train_points.reshape(nodes_nbr,1), mtm_points.reshape(nodes_nbr,1))\n",
    "\n",
    "\n",
    "    # Mtm Proxy\n",
    "    Mtm = gpr_predictor(gpr_model, np.sort(diff.X(t)).reshape(diff.nbr_scenarios,1))\n",
    "    \n",
    "    return Mtm.reshape(diff.nbr_scenarios)\n",
    "\n",
    "\n",
    "\n"
   ]
  },
  {
   "cell_type": "code",
   "execution_count": 5,
   "metadata": {},
   "outputs": [],
   "source": [
    "ZCR = ZC_Data_extractor(zc_curve_path)    \n",
    "ZC = zero_coupon_bonds(ZCR, 3) # We chose 3 as degree of the Spline Interpolation \n",
    "\n",
    "#load portfolio data\n",
    "with open(port_path+'\\port400irs1fx', 'rb') as f1:\n",
    "    portfolio = pickle.load(f1)\n",
    "    \n",
    "# Set Maturity     \n",
    "T = portfolio.last_maturity\n",
    "\n",
    "#load diffusion data\n",
    "with open(diff_path+'\\MC60000p400swap1fx', 'rb') as f1:\n",
    "    diff = pickle.load(f1)"
   ]
  },
  {
   "cell_type": "code",
   "execution_count": 6,
   "metadata": {},
   "outputs": [],
   "source": [
    "#LGM params\n",
    "sig = 0.005 \n",
    "lam = 0.01\n"
   ]
  },
  {
   "cell_type": "markdown",
   "metadata": {},
   "source": [
    "## 1. Gaussian proxy for the Mtm of a swap portfolio"
   ]
  },
  {
   "cell_type": "markdown",
   "metadata": {},
   "source": [
    "The implemented formulas are derived from LGM 1F using a 1st order Taylor approximation with respect to $X_{t}$ in the reconstruction formula under the terminal probability measure $\\mathbb{Q}_{t}$"
   ]
  },
  {
   "cell_type": "code",
   "execution_count": 7,
   "metadata": {},
   "outputs": [],
   "source": [
    "def quad_norm(x) :\n",
    "    return np.sum(np.sqrt(x))**2\n",
    "\n",
    "def beta(t,T,lam):\n",
    "    return (1 - np.exp(-lam * (T - t))) / lam\n",
    "\n",
    "def A(t,T,lam, sig, ZC): \n",
    "    zcb_t, zcb_T=  ZC.initial_zcb_curve(t) , ZC.initial_zcb_curve(T)\n",
    "    beta_ = beta(t,T,lam)\n",
    "    phi = (sig ** 2 ) * (1 - np.exp(-2 * lam * t)) / (2 * lam)\n",
    "    \n",
    "    return (zcb_T / zcb_t) * np.exp(-0.5 * beta_ ** 2 * phi)\n",
    "    \n",
    "def zcb_law_lgm(t,T,lam,sig,ZC) :\n",
    "    mu_X_t = 0\n",
    "    std_X_t = sig * np.sqrt( (1 - np.exp(-2 * lam *t )) / (2 *lam) )\n",
    "    \n",
    "    mean = A(t,T,lam,sig,ZC) * ( 1 - beta(t,T,lam) * mu_X_t)\n",
    "    std = std_X_t *A(t,T,lam,sig,ZC) * beta(t,T,lam)\n",
    "    \n",
    "    return mean, std\n",
    "\n",
    "\n",
    "def swap_law(t,swap, lam, sig,ZC) :\n",
    "    mu_X_t = 0\n",
    "    std_X_t = sig * np.sqrt( (1 - np.exp(-2 * lam *t )) / (2 *lam) )\n",
    "    if  swap.tenor[-2] < t:\n",
    "        return 0,0\n",
    "    else :\n",
    "        swap_type = (swap.exercice == \"payer\") * 2 - 1\n",
    "        maturities = swap.tenor[(swap.tenor < t).sum():]\n",
    "        \n",
    "\n",
    "        deltaK = np.zeros(maturities.shape[0])\n",
    "        coef = np.zeros(maturities.shape[0])\n",
    "\n",
    "        coef[0] = 1\n",
    "        coef[-1] = -1\n",
    "\n",
    "        deltaK[1:] = np.diff(maturities)*swap.strike\n",
    "\n",
    "        coef = coef - deltaK\n",
    "\n",
    "        A_ = A(t,maturities,lam, sig, ZC)\n",
    "        M = A_*beta(t,maturities,lam)\n",
    "\n",
    "        mean  = swap_type*swap.nominal*(np.dot(coef,A_) - np.dot(coef,M)*mu_X_t)\n",
    "\n",
    "        std = swap.nominal*np.dot(coef,M)*std_X_t\n",
    "\n",
    "        return mean , std\n",
    "\n",
    "def Mtm_proxy_law(t, portfolio, lam, sig, ZC):\n",
    "    swaps_law = np.array([ swap_law(t,swap, lam, sig,ZC) for swap in portfolio.swaps]) \n",
    "    mean_swaps = swaps_law[:,0]\n",
    "    std_swaps = swaps_law[:,1]\n",
    "    \n",
    "    var = quad_norm(std_swaps**2)\n",
    "    mean = np.sum(mean_swaps)\n",
    "    \n",
    "    return mean , np.sqrt(var)\n",
    "\n",
    "def Mtm_proxy(t, portfolio, lam, sig, ZC):\n",
    "    mu_X_t = 0\n",
    "    std_X_t = sig * np.sqrt( (1 - np.exp(-2 * lam *t )) / (2 *lam) )\n",
    "    \n",
    "    swaps_law = np.array([ swap_law(t,swap, lam, sig,ZC) for swap in portfolio.swaps]) \n",
    "    mean_swaps = swaps_law[:,0]\n",
    "    std_swaps = swaps_law[:,1]\n",
    "    \n",
    "    var = quad_norm(std_swaps**2)\n",
    "    mean = np.sum(mean_swaps)\n",
    "    \n",
    "    \n",
    "    \n",
    "    \n",
    "    return mean , np.sqrt(var)/std_X_t"
   ]
  },
  {
   "cell_type": "code",
   "execution_count": 8,
   "metadata": {},
   "outputs": [
    {
     "data": {
      "image/png": "[encoded data removed]",
      "text/plain": [
       "<Figure size 432x288 with 1 Axes>"
      ]
     },
     "metadata": {
      "needs_background": "light"
     },
     "output_type": "display_data"
    }
   ],
   "source": [
    "\n",
    "irs = portfolio\n",
    "\n",
    "t = 4\n",
    "\n",
    "Vt=irs.Mtm(t,diff,ZC)\n",
    "\n",
    "sns.distplot(Vt, hist = True, bins=20, kde = True, kde_kws={ 'linewidth': 1}, label ='Monte Carlo')\n",
    "# Plot the PDF.\n",
    "xmin, xmax = plt.xlim()\n",
    "ax = np.linspace(xmin, xmax, 100)\n",
    "p = norm.pdf(ax, np.mean(Vt) ,  np.std(Vt))\n",
    "m,s = Mtm_proxy_law(t,irs, lam, sig,ZC)\n",
    "\n",
    "x_, x__ = m-5*s , m+5*s\n",
    "ax_ = np.linspace(x_, x__, 100)\n",
    "\n",
    "pt =  norm.pdf(ax_, m,s)\n",
    "plt.plot(ax,p,label='Gaussain Empirique')\n",
    "plt.plot(ax_,pt,label='Gaussain Théorique')\n",
    "\n",
    "plt.legend()\n",
    "plt.show()"
   ]
  },
  {
   "cell_type": "code",
   "execution_count": 9,
   "metadata": {},
   "outputs": [
    {
     "data": {
      "text/plain": [
       "(32779.15333610029, 32930.62363893174)"
      ]
     },
     "execution_count": 9,
     "metadata": {},
     "output_type": "execute_result"
    }
   ],
   "source": [
    " np.mean(Vt) ,  np.std(Vt)"
   ]
  },
  {
   "cell_type": "code",
   "execution_count": 10,
   "metadata": {},
   "outputs": [
    {
     "data": {
      "text/plain": [
       "(33178.64646149106, 33041.097266135395)"
      ]
     },
     "execution_count": 10,
     "metadata": {},
     "output_type": "execute_result"
    }
   ],
   "source": [
    " Mtm_proxy_law(t,irs, lam, sig,ZC)"
   ]
  },
  {
   "cell_type": "code",
   "execution_count": 11,
   "metadata": {},
   "outputs": [
    {
     "data": {
      "text/plain": [
       "<matplotlib.legend.Legend at 0x2b6a5a57fd0>"
      ]
     },
     "execution_count": 11,
     "metadata": {},
     "output_type": "execute_result"
    },
    {
     "data": {
      "image/png": "[encoded data removed]",
      "text/plain": [
       "<Figure size 432x288 with 1 Axes>"
      ]
     },
     "metadata": {
      "needs_background": "light"
     },
     "output_type": "display_data"
    }
   ],
   "source": [
    "t = 4\n",
    "Xt = np.sort(diff.X(t))\n",
    "Mtm_t = irs.Mtm_mono(t,Xt,ZC,diff.get_LGM_params())\n",
    "\n",
    "a,b =  Mtm_proxy(t, portfolio, lam, sig, ZC)\n",
    "\n",
    "plt.plot(Xt, Mtm_t,label='Monte Carlo' )\n",
    "plt.plot(Xt , a+b*Xt , label='Proxy')\n",
    "plt.xlabel('$X_{t}$')\n",
    "plt.ylabel('Mark-to-market')\n",
    "plt.grid(False)\n",
    "plt.legend()"
   ]
  },
  {
   "cell_type": "markdown",
   "metadata": {},
   "source": [
    "#### Using now swap proxy dynamic ( A titre illustrative )"
   ]
  },
  {
   "cell_type": "code",
   "execution_count": 12,
   "metadata": {},
   "outputs": [],
   "source": [
    "def level(t,swap, diff,ZC):\n",
    "    return (np.diff(swap.tenor)*diff.ZCB(t,swap.tenor,ZC)[:,1:]).sum(axis=1)\n",
    "def level_initial(swap,ZC):\n",
    "    zcb = ZC.initial_zcb_curve(swap.tenor)\n",
    "    return ((swap.tenor[1:] - swap.tenor[:-1]) * zcb[1:]).sum()\n",
    "\n",
    "def level_proxy(t,T,s0):\n",
    "    return (1-np.exp(-s0*(T-t)))/s0\n",
    "def sigma_bachelier(expiry,swap,sigma,lam,ZC):\n",
    "    zeroCoupon = lambda t : ZC.initial_zcb_curve(t)\n",
    "\n",
    "    t_start = swap.tenor[0]\n",
    "    t_end = swap.tenor[-1]\n",
    "\n",
    "    level = 0\n",
    "    level_exp = 0\n",
    "\n",
    "    for tenor in swap.tenor[1:]:\n",
    "        level += swap.freq * zeroCoupon(tenor)\n",
    "        level_exp += swap.freq * zeroCoupon(tenor) * np.exp(-lam * tenor)\n",
    "\n",
    "    s0 = (zeroCoupon(t_start) - zeroCoupon(t_end)) / level\n",
    "    g0 = (zeroCoupon(t_start) * np.exp(-lam * t_start) - zeroCoupon(t_end) * np.exp(-lam * t_end)) / (\n",
    "            zeroCoupon(t_start) - zeroCoupon(t_end)) - level_exp / level\n",
    "    g0 /= lam\n",
    "\n",
    "    sigma_etoile = sigma ** 2 * s0**2 * g0 ** 2 * (np.exp(2 * lam * expiry) - 1) / (2 * lam)\n",
    "    sigma_etoile = np.sqrt(sigma_etoile)\n",
    "    \n",
    "    return sigma_etoile\n",
    "def proxy2_level(t,swap, diff,ZC):\n",
    "    zcb = diff.ZCB(t,swap.tenor,ZC)\n",
    "    St=(zcb[:,0] - zcb[:,-1]) / ((swap.tenor[1:] - swap.tenor[:-1]) * zcb[:,1:]).sum()\n",
    "    T = swap.tenor[-1]\n",
    "    return ((1-np.exp(-St*(T-t)))/St)\n"
   ]
  },
  {
   "cell_type": "code",
   "execution_count": 13,
   "metadata": {},
   "outputs": [],
   "source": [
    "#Let's start for one swap\n",
    "\n",
    "swaps =  [ (IrsPortfolio(1 , first_date=[0], freq=[0.25, 0.5, 1], Nominal=[10000],\n",
    "                 maturity=[T],\n",
    "                 fix_rate=[0.02, 0.05], exercice=['payer'], SEED=1999).swaps)[0] for T in ZCR['Time'].values]\n"
   ]
  },
  {
   "cell_type": "code",
   "execution_count": 14,
   "metadata": {},
   "outputs": [],
   "source": [
    "df =pd.DataFrame(columns=['Maturities' , 'Swap Rate', 'Level', 'Proxy Level'])"
   ]
  },
  {
   "cell_type": "code",
   "execution_count": 15,
   "metadata": {},
   "outputs": [
    {
     "data": {
      "text/html": [
       "<div>\n",
       "<style scoped>\n",
       "    .dataframe tbody tr th:only-of-type {\n",
       "        vertical-align: middle;\n",
       "    }\n",
       "\n",
       "    .dataframe tbody tr th {\n",
       "        vertical-align: top;\n",
       "    }\n",
       "\n",
       "    .dataframe thead th {\n",
       "        text-align: right;\n",
       "    }\n",
       "</style>\n",
       "<table border=\"1\" class=\"dataframe\">\n",
       "  <thead>\n",
       "    <tr style=\"text-align: right;\">\n",
       "      <th></th>\n",
       "      <th>Maturities</th>\n",
       "      <th>Swap Rate</th>\n",
       "      <th>Level</th>\n",
       "      <th>Proxy Level</th>\n",
       "    </tr>\n",
       "  </thead>\n",
       "  <tbody>\n",
       "    <tr>\n",
       "      <th>0</th>\n",
       "      <td>0.00</td>\n",
       "      <td>0.026</td>\n",
       "      <td>0.248</td>\n",
       "      <td>0.000</td>\n",
       "    </tr>\n",
       "    <tr>\n",
       "      <th>1</th>\n",
       "      <td>0.08</td>\n",
       "      <td>0.026</td>\n",
       "      <td>0.248</td>\n",
       "      <td>0.080</td>\n",
       "    </tr>\n",
       "    <tr>\n",
       "      <th>2</th>\n",
       "      <td>0.50</td>\n",
       "      <td>0.023</td>\n",
       "      <td>0.496</td>\n",
       "      <td>0.497</td>\n",
       "    </tr>\n",
       "    <tr>\n",
       "      <th>3</th>\n",
       "      <td>1.00</td>\n",
       "      <td>0.023</td>\n",
       "      <td>0.986</td>\n",
       "      <td>0.989</td>\n",
       "    </tr>\n",
       "    <tr>\n",
       "      <th>4</th>\n",
       "      <td>2.00</td>\n",
       "      <td>0.024</td>\n",
       "      <td>1.948</td>\n",
       "      <td>1.953</td>\n",
       "    </tr>\n",
       "    <tr>\n",
       "      <th>5</th>\n",
       "      <td>3.00</td>\n",
       "      <td>0.027</td>\n",
       "      <td>2.883</td>\n",
       "      <td>2.883</td>\n",
       "    </tr>\n",
       "    <tr>\n",
       "      <th>6</th>\n",
       "      <td>4.00</td>\n",
       "      <td>0.029</td>\n",
       "      <td>3.785</td>\n",
       "      <td>3.775</td>\n",
       "    </tr>\n",
       "    <tr>\n",
       "      <th>7</th>\n",
       "      <td>5.00</td>\n",
       "      <td>0.032</td>\n",
       "      <td>4.652</td>\n",
       "      <td>4.625</td>\n",
       "    </tr>\n",
       "    <tr>\n",
       "      <th>8</th>\n",
       "      <td>6.00</td>\n",
       "      <td>0.034</td>\n",
       "      <td>5.482</td>\n",
       "      <td>5.433</td>\n",
       "    </tr>\n",
       "    <tr>\n",
       "      <th>9</th>\n",
       "      <td>7.00</td>\n",
       "      <td>0.036</td>\n",
       "      <td>6.273</td>\n",
       "      <td>6.196</td>\n",
       "    </tr>\n",
       "    <tr>\n",
       "      <th>10</th>\n",
       "      <td>10.00</td>\n",
       "      <td>0.040</td>\n",
       "      <td>8.418</td>\n",
       "      <td>8.245</td>\n",
       "    </tr>\n",
       "    <tr>\n",
       "      <th>11</th>\n",
       "      <td>15.00</td>\n",
       "      <td>0.044</td>\n",
       "      <td>11.298</td>\n",
       "      <td>10.980</td>\n",
       "    </tr>\n",
       "    <tr>\n",
       "      <th>12</th>\n",
       "      <td>20.00</td>\n",
       "      <td>0.046</td>\n",
       "      <td>13.472</td>\n",
       "      <td>13.060</td>\n",
       "    </tr>\n",
       "  </tbody>\n",
       "</table>\n",
       "</div>"
      ],
      "text/plain": [
       "    Maturities  Swap Rate   Level  Proxy Level\n",
       "0         0.00      0.026   0.248        0.000\n",
       "1         0.08      0.026   0.248        0.080\n",
       "2         0.50      0.023   0.496        0.497\n",
       "3         1.00      0.023   0.986        0.989\n",
       "4         2.00      0.024   1.948        1.953\n",
       "5         3.00      0.027   2.883        2.883\n",
       "6         4.00      0.029   3.785        3.775\n",
       "7         5.00      0.032   4.652        4.625\n",
       "8         6.00      0.034   5.482        5.433\n",
       "9         7.00      0.036   6.273        6.196\n",
       "10       10.00      0.040   8.418        8.245\n",
       "11       15.00      0.044  11.298       10.980\n",
       "12       20.00      0.046  13.472       13.060"
      ]
     },
     "execution_count": 15,
     "metadata": {},
     "output_type": "execute_result"
    }
   ],
   "source": [
    "df['Maturities'] = ZCR['Time'].round(2)\n",
    "df['Swap Rate'] = np.array([ swap.swap_rate(ZC) for swap in swaps])\n",
    "df['Level'] = np.array([ level_initial(swap,ZC) for swap in swaps])\n",
    "df['Proxy Level'] = level_proxy(0, df['Maturities'], df['Swap Rate'] )\n",
    "df.round(3)"
   ]
  },
  {
   "cell_type": "code",
   "execution_count": 16,
   "metadata": {},
   "outputs": [
    {
     "data": {
      "text/html": [
       "<div>\n",
       "<style scoped>\n",
       "    .dataframe tbody tr th:only-of-type {\n",
       "        vertical-align: middle;\n",
       "    }\n",
       "\n",
       "    .dataframe tbody tr th {\n",
       "        vertical-align: top;\n",
       "    }\n",
       "\n",
       "    .dataframe thead th {\n",
       "        text-align: right;\n",
       "    }\n",
       "</style>\n",
       "<table border=\"1\" class=\"dataframe\">\n",
       "  <thead>\n",
       "    <tr style=\"text-align: right;\">\n",
       "      <th></th>\n",
       "      <th>Maturities</th>\n",
       "      <th>Swap Rate</th>\n",
       "      <th>Level</th>\n",
       "      <th>Proxy Level</th>\n",
       "      <th>Level mean</th>\n",
       "      <th>Level std</th>\n",
       "    </tr>\n",
       "  </thead>\n",
       "  <tbody>\n",
       "    <tr>\n",
       "      <th>0</th>\n",
       "      <td>0.00</td>\n",
       "      <td>0.026</td>\n",
       "      <td>0.248</td>\n",
       "      <td>0.000</td>\n",
       "      <td>0.291</td>\n",
       "      <td>0.015</td>\n",
       "    </tr>\n",
       "    <tr>\n",
       "      <th>1</th>\n",
       "      <td>0.08</td>\n",
       "      <td>0.026</td>\n",
       "      <td>0.248</td>\n",
       "      <td>0.080</td>\n",
       "      <td>0.291</td>\n",
       "      <td>0.015</td>\n",
       "    </tr>\n",
       "    <tr>\n",
       "      <th>2</th>\n",
       "      <td>0.50</td>\n",
       "      <td>0.023</td>\n",
       "      <td>0.496</td>\n",
       "      <td>0.497</td>\n",
       "      <td>0.581</td>\n",
       "      <td>0.030</td>\n",
       "    </tr>\n",
       "    <tr>\n",
       "      <th>3</th>\n",
       "      <td>1.00</td>\n",
       "      <td>0.023</td>\n",
       "      <td>0.986</td>\n",
       "      <td>0.989</td>\n",
       "      <td>1.155</td>\n",
       "      <td>0.056</td>\n",
       "    </tr>\n",
       "    <tr>\n",
       "      <th>4</th>\n",
       "      <td>2.00</td>\n",
       "      <td>0.024</td>\n",
       "      <td>1.948</td>\n",
       "      <td>1.953</td>\n",
       "      <td>2.283</td>\n",
       "      <td>0.098</td>\n",
       "    </tr>\n",
       "    <tr>\n",
       "      <th>5</th>\n",
       "      <td>3.00</td>\n",
       "      <td>0.027</td>\n",
       "      <td>2.883</td>\n",
       "      <td>2.883</td>\n",
       "      <td>3.380</td>\n",
       "      <td>0.127</td>\n",
       "    </tr>\n",
       "    <tr>\n",
       "      <th>6</th>\n",
       "      <td>4.00</td>\n",
       "      <td>0.029</td>\n",
       "      <td>3.785</td>\n",
       "      <td>3.775</td>\n",
       "      <td>4.437</td>\n",
       "      <td>0.143</td>\n",
       "    </tr>\n",
       "    <tr>\n",
       "      <th>7</th>\n",
       "      <td>5.00</td>\n",
       "      <td>0.032</td>\n",
       "      <td>4.652</td>\n",
       "      <td>4.625</td>\n",
       "      <td>5.453</td>\n",
       "      <td>0.147</td>\n",
       "    </tr>\n",
       "    <tr>\n",
       "      <th>8</th>\n",
       "      <td>6.00</td>\n",
       "      <td>0.034</td>\n",
       "      <td>5.482</td>\n",
       "      <td>5.433</td>\n",
       "      <td>6.426</td>\n",
       "      <td>0.141</td>\n",
       "    </tr>\n",
       "    <tr>\n",
       "      <th>9</th>\n",
       "      <td>7.00</td>\n",
       "      <td>0.036</td>\n",
       "      <td>6.273</td>\n",
       "      <td>6.196</td>\n",
       "      <td>7.353</td>\n",
       "      <td>0.125</td>\n",
       "    </tr>\n",
       "    <tr>\n",
       "      <th>10</th>\n",
       "      <td>10.00</td>\n",
       "      <td>0.040</td>\n",
       "      <td>8.418</td>\n",
       "      <td>8.245</td>\n",
       "      <td>9.867</td>\n",
       "      <td>0.029</td>\n",
       "    </tr>\n",
       "    <tr>\n",
       "      <th>11</th>\n",
       "      <td>15.00</td>\n",
       "      <td>0.044</td>\n",
       "      <td>11.298</td>\n",
       "      <td>10.980</td>\n",
       "      <td>13.244</td>\n",
       "      <td>0.238</td>\n",
       "    </tr>\n",
       "    <tr>\n",
       "      <th>12</th>\n",
       "      <td>20.00</td>\n",
       "      <td>0.046</td>\n",
       "      <td>13.472</td>\n",
       "      <td>13.060</td>\n",
       "      <td>15.793</td>\n",
       "      <td>0.566</td>\n",
       "    </tr>\n",
       "  </tbody>\n",
       "</table>\n",
       "</div>"
      ],
      "text/plain": [
       "    Maturities  Swap Rate   Level  Proxy Level  Level mean  Level std\n",
       "0         0.00      0.026   0.248        0.000       0.291      0.015\n",
       "1         0.08      0.026   0.248        0.080       0.291      0.015\n",
       "2         0.50      0.023   0.496        0.497       0.581      0.030\n",
       "3         1.00      0.023   0.986        0.989       1.155      0.056\n",
       "4         2.00      0.024   1.948        1.953       2.283      0.098\n",
       "5         3.00      0.027   2.883        2.883       3.380      0.127\n",
       "6         4.00      0.029   3.785        3.775       4.437      0.143\n",
       "7         5.00      0.032   4.652        4.625       5.453      0.147\n",
       "8         6.00      0.034   5.482        5.433       6.426      0.141\n",
       "9         7.00      0.036   6.273        6.196       7.353      0.125\n",
       "10       10.00      0.040   8.418        8.245       9.867      0.029\n",
       "11       15.00      0.044  11.298       10.980      13.244      0.238\n",
       "12       20.00      0.046  13.472       13.060      15.793      0.566"
      ]
     },
     "execution_count": 16,
     "metadata": {},
     "output_type": "execute_result"
    }
   ],
   "source": [
    "t=5\n",
    "dft= df\n",
    "dft['Level mean'] = np.array([ np.mean(level(t,swap, diff,ZC)) for swap in swaps])\n",
    "dft['Level std'] = np.array([ np.std(level(t,swap, diff,ZC)) for swap in swaps])\n",
    "\n",
    "dft.round(3)"
   ]
  },
  {
   "cell_type": "code",
   "execution_count": 17,
   "metadata": {},
   "outputs": [],
   "source": [
    "def proxy_law(t,irs, lam, sig,ZC): \n",
    "    swap = irs.swaps[0]\n",
    "    s0 = swap.swap_rate(ZC)\n",
    "    mean = swap.nominal * level_proxy(t,swap.tenor[-1],s0) * (s0-swap.strike)\n",
    "    \n",
    "    std = swap.nominal*level_proxy(t,swap.tenor[-1],s0)*sigma_bachelier(t,swap,sig,lam,ZC)\n",
    "    return mean,std"
   ]
  },
  {
   "cell_type": "code",
   "execution_count": 18,
   "metadata": {},
   "outputs": [
    {
     "data": {
      "image/png": "[encoded data removed]",
      "text/plain": [
       "<Figure size 432x288 with 1 Axes>"
      ]
     },
     "metadata": {
      "needs_background": "light"
     },
     "output_type": "display_data"
    }
   ],
   "source": [
    "# The swap object \n",
    "\n",
    "irs =  IrsPortfolio(1 , first_date=[0], freq=[0.25, 0.5, 1], Nominal=[10000],\n",
    "                 maturity=[T],\n",
    "                 fix_rate=[0.02, 0.05], exercice=['payer'], SEED=1999)\n",
    "\n",
    "\n",
    "t=4\n",
    "Vt=irs.Mtm(t,diff,ZC)\n",
    "\n",
    "\n",
    "sns.distplot(Vt, hist = True, bins=20, kde = True, kde_kws={ 'linewidth': 3}, label ='Monte Carlo')\n",
    "# Plot the PDF.\n",
    "xmin, xmax = plt.xlim()\n",
    "ax = np.linspace(xmin, xmax, 100)\n",
    "p = norm.pdf(ax, np.mean(Vt) ,  np.std(Vt))\n",
    "m,s = proxy_law(t,irs, lam, sig,ZC)\n",
    "pt =  norm.pdf(ax, m,s)\n",
    "plt.plot(ax,p,label='Gaussain Empirique')\n",
    "plt.plot(ax,pt,label='Gaussain Théorique')\n",
    "\n",
    "plt.legend()\n",
    "plt.show()"
   ]
  },
  {
   "cell_type": "markdown",
   "metadata": {},
   "source": [
    "## 2. Calcul de EE et CVA avec le proxy gaussien : "
   ]
  },
  {
   "cell_type": "code",
   "execution_count": 19,
   "metadata": {},
   "outputs": [],
   "source": [
    "def Expected_exposure_proxy(t, portfolio, lam, sig, ZC) :\n",
    "    mu , sigma = Mtm_proxy_law(t, portfolio, lam, sig, ZC)\n",
    "    if sigma == 0:\n",
    "        return 0\n",
    "    return ZC.initial_zcb_curve(t)*(mu*norm.cdf(mu/sigma) + sigma*norm.pdf(mu/sigma))\n",
    "    "
   ]
  },
  {
   "cell_type": "code",
   "execution_count": 20,
   "metadata": {},
   "outputs": [],
   "source": [
    "#recovery rate & defult probability parameter :\n",
    "R, lamda = 0.4, 0.005"
   ]
  },
  {
   "cell_type": "code",
   "execution_count": 21,
   "metadata": {},
   "outputs": [
    {
     "name": "stdout",
     "output_type": "stream",
     "text": [
      "Calulcaltion for 50 is Done ------\n",
      "Calulcaltion for 100 is Done ------\n",
      "Calulcaltion for 300 is Done ------\n",
      "Calulcaltion for 500 is Done ------\n",
      "Calulcaltion for 700 is Done ------\n",
      "Calulcaltion for 800 is Done ------\n",
      "Calulcaltion for 900 is Done ------\n",
      "Calulcaltion for 1000 is Done ------\n",
      "Total Calculation Time : 0:02:05\n"
     ]
    },
    {
     "data": {
      "text/html": [
       "<div>\n",
       "<style scoped>\n",
       "    .dataframe tbody tr th:only-of-type {\n",
       "        vertical-align: middle;\n",
       "    }\n",
       "\n",
       "    .dataframe tbody tr th {\n",
       "        vertical-align: top;\n",
       "    }\n",
       "\n",
       "    .dataframe thead th {\n",
       "        text-align: right;\n",
       "    }\n",
       "</style>\n",
       "<table border=\"1\" class=\"dataframe\">\n",
       "  <thead>\n",
       "    <tr style=\"text-align: right;\">\n",
       "      <th></th>\n",
       "      <th>Discretization</th>\n",
       "      <th>CVA</th>\n",
       "      <th>Computation Time</th>\n",
       "    </tr>\n",
       "  </thead>\n",
       "  <tbody>\n",
       "    <tr>\n",
       "      <th>0</th>\n",
       "      <td>50.0</td>\n",
       "      <td>440.35</td>\n",
       "      <td>1.56</td>\n",
       "    </tr>\n",
       "    <tr>\n",
       "      <th>1</th>\n",
       "      <td>100.0</td>\n",
       "      <td>433.92</td>\n",
       "      <td>2.89</td>\n",
       "    </tr>\n",
       "    <tr>\n",
       "      <th>2</th>\n",
       "      <td>300.0</td>\n",
       "      <td>435.49</td>\n",
       "      <td>8.49</td>\n",
       "    </tr>\n",
       "    <tr>\n",
       "      <th>3</th>\n",
       "      <td>500.0</td>\n",
       "      <td>435.67</td>\n",
       "      <td>13.16</td>\n",
       "    </tr>\n",
       "    <tr>\n",
       "      <th>4</th>\n",
       "      <td>700.0</td>\n",
       "      <td>436.00</td>\n",
       "      <td>18.37</td>\n",
       "    </tr>\n",
       "    <tr>\n",
       "      <th>5</th>\n",
       "      <td>800.0</td>\n",
       "      <td>435.42</td>\n",
       "      <td>21.17</td>\n",
       "    </tr>\n",
       "    <tr>\n",
       "      <th>6</th>\n",
       "      <td>900.0</td>\n",
       "      <td>435.64</td>\n",
       "      <td>29.49</td>\n",
       "    </tr>\n",
       "    <tr>\n",
       "      <th>7</th>\n",
       "      <td>1000.0</td>\n",
       "      <td>435.59</td>\n",
       "      <td>30.22</td>\n",
       "    </tr>\n",
       "  </tbody>\n",
       "</table>\n",
       "</div>"
      ],
      "text/plain": [
       "   Discretization     CVA  Computation Time\n",
       "0            50.0  440.35              1.56\n",
       "1           100.0  433.92              2.89\n",
       "2           300.0  435.49              8.49\n",
       "3           500.0  435.67             13.16\n",
       "4           700.0  436.00             18.37\n",
       "5           800.0  435.42             21.17\n",
       "6           900.0  435.64             29.49\n",
       "7          1000.0  435.59             30.22"
      ]
     },
     "execution_count": 21,
     "metadata": {},
     "output_type": "execute_result"
    },
    {
     "data": {
      "image/png": "[encoded data removed]",
      "text/plain": [
       "<Figure size 432x288 with 1 Axes>"
      ]
     },
     "metadata": {
      "needs_background": "light"
     },
     "output_type": "display_data"
    }
   ],
   "source": [
    "\n",
    "discretisations =[50,100,300,500,700,800,900,1000]\n",
    "\n",
    "cva_integration =  pd.DataFrame(columns=['Discretization', 'CVA' , 'Computation Time'])\n",
    "\n",
    "start = time()\n",
    "for n in discretisations :\n",
    "    time_grid = np.linspace(0,T,n)\n",
    "    \n",
    "    mc_start = time()\n",
    "    \n",
    "    EE =np.array([ Expected_exposure_proxy(t, portfolio, lam, sig, ZC)  if 0<t and t<T else 0 for t in time_grid])\n",
    "    PD = np.array([ lamda * np.exp(-lamda *t) for t in time_grid])\n",
    "    Y = (1-R)*EE*PD\n",
    "    cva = (np.diff(time_grid)*Y[1:]).sum()\n",
    "    \n",
    "    cva_integration.loc[len(cva_integration)] = [ round(n) , cva, time() - mc_start]\n",
    "    \n",
    "   \n",
    "    plt.plot(time_grid, EE, label=\"Expected Exposure - \"+str(n))\n",
    "    plt.legend()\n",
    "    plt.xlabel(r\"$Maturity$\")\n",
    "    plt.ylabel(r\"$Exposure$\")\n",
    "    plt.grid(False)\n",
    "    plt.title(\"Convergence of the Expected Exposure with the proxy\")\n",
    "    \n",
    "    print('Calulcaltion for '+str(n)+' is Done ------')\n",
    "\n",
    "    \n",
    "print('Total Calculation Time :' , \"{}\".format(str( timedelta( seconds=round(time()-start) ) )))\n",
    "cva_integration.round(2)"
   ]
  },
  {
   "cell_type": "markdown",
   "metadata": {},
   "source": [
    "on affiche cette figure à titre indicatif et à ne pas inclure dans le papier "
   ]
  },
  {
   "cell_type": "code",
   "execution_count": 22,
   "metadata": {},
   "outputs": [
    {
     "data": {
      "text/html": [
       "<div>\n",
       "<style scoped>\n",
       "    .dataframe tbody tr th:only-of-type {\n",
       "        vertical-align: middle;\n",
       "    }\n",
       "\n",
       "    .dataframe tbody tr th {\n",
       "        vertical-align: top;\n",
       "    }\n",
       "\n",
       "    .dataframe thead th {\n",
       "        text-align: right;\n",
       "    }\n",
       "</style>\n",
       "<table border=\"1\" class=\"dataframe\">\n",
       "  <thead>\n",
       "    <tr style=\"text-align: right;\">\n",
       "      <th></th>\n",
       "      <th>Discretization</th>\n",
       "      <th>CVA</th>\n",
       "      <th>Computation Time</th>\n",
       "    </tr>\n",
       "  </thead>\n",
       "  <tbody>\n",
       "    <tr>\n",
       "      <th>0</th>\n",
       "      <td>50</td>\n",
       "      <td>440</td>\n",
       "      <td>1</td>\n",
       "    </tr>\n",
       "    <tr>\n",
       "      <th>1</th>\n",
       "      <td>100</td>\n",
       "      <td>433</td>\n",
       "      <td>2</td>\n",
       "    </tr>\n",
       "    <tr>\n",
       "      <th>2</th>\n",
       "      <td>300</td>\n",
       "      <td>435</td>\n",
       "      <td>8</td>\n",
       "    </tr>\n",
       "    <tr>\n",
       "      <th>3</th>\n",
       "      <td>500</td>\n",
       "      <td>435</td>\n",
       "      <td>13</td>\n",
       "    </tr>\n",
       "    <tr>\n",
       "      <th>4</th>\n",
       "      <td>700</td>\n",
       "      <td>436</td>\n",
       "      <td>18</td>\n",
       "    </tr>\n",
       "    <tr>\n",
       "      <th>5</th>\n",
       "      <td>800</td>\n",
       "      <td>435</td>\n",
       "      <td>21</td>\n",
       "    </tr>\n",
       "    <tr>\n",
       "      <th>6</th>\n",
       "      <td>900</td>\n",
       "      <td>435</td>\n",
       "      <td>29</td>\n",
       "    </tr>\n",
       "    <tr>\n",
       "      <th>7</th>\n",
       "      <td>1000</td>\n",
       "      <td>435</td>\n",
       "      <td>30</td>\n",
       "    </tr>\n",
       "  </tbody>\n",
       "</table>\n",
       "</div>"
      ],
      "text/plain": [
       "   Discretization  CVA  Computation Time\n",
       "0              50  440                 1\n",
       "1             100  433                 2\n",
       "2             300  435                 8\n",
       "3             500  435                13\n",
       "4             700  436                18\n",
       "5             800  435                21\n",
       "6             900  435                29\n",
       "7            1000  435                30"
      ]
     },
     "execution_count": 22,
     "metadata": {},
     "output_type": "execute_result"
    }
   ],
   "source": [
    "cva_integration.astype(int)"
   ]
  },
  {
   "cell_type": "code",
   "execution_count": 23,
   "metadata": {},
   "outputs": [
    {
     "data": {
      "text/plain": [
       "'\\\\begin{table}[htbp]\\n\\\\caption{Convergence of the expected exposure based on closed formula using a gaussian proxy }\\n\\\\begin{tabular}{|l|l|l|l|}\\n\\\\toprule\\nDiscretization & CVA & Computation Time \\\\\\\\\\n\\\\midrule\\n50 & 440 & 1 \\\\\\\\\\n100 & 433 & 2 \\\\\\\\\\n300 & 435 & 8 \\\\\\\\\\n500 & 435 & 13 \\\\\\\\\\n700 & 436 & 18 \\\\\\\\\\n800 & 435 & 21 \\\\\\\\\\n900 & 435 & 29 \\\\\\\\\\n1000 & 435 & 30 \\\\\\\\\\n\\\\bottomrule\\n\\\\end{tabular}\\n\\\\end{table}\\n'"
      ]
     },
     "execution_count": 23,
     "metadata": {},
     "output_type": "execute_result"
    }
   ],
   "source": [
    "cva_integration.astype(int).to_latex(\n",
    "    index=False,  # To not include the DataFrame index as a column in the table\n",
    "    caption=\"Convergence of the expected exposure based on closed formula using a gaussian proxy \",  # The caption to appear above the table in the LaTeX document  # A label used for referencing the table within the LaTeX document\n",
    "    position=\"htbp\",  # The preferred positions where the table should be placed in the document ('here', 'top', 'bottom', 'page')\n",
    "    column_format=\"|l|l|l|l|\",  # The format of the columns: left-aligned with vertical lines between them\n",
    "    escape=False,  # Disable escaping LaTeX special characters in the DataFrame\n",
    ")"
   ]
  },
  {
   "cell_type": "markdown",
   "metadata": {},
   "source": [
    "On converge très rapidement en s  avec 500 discrétisation et vers 435 euro "
   ]
  },
  {
   "cell_type": "markdown",
   "metadata": {},
   "source": [
    "### Profil EE pour les 3 méthodes  : MC , Intégration numérique et proxy"
   ]
  },
  {
   "cell_type": "code",
   "execution_count": 38,
   "metadata": {},
   "outputs": [],
   "source": [
    "lgm_params = diff.get_LGM_params()"
   ]
  },
  {
   "cell_type": "code",
   "execution_count": 39,
   "metadata": {},
   "outputs": [],
   "source": [
    "def Expected_exposure_benchmark(t, portfolio, ZC,lgm_params , n_std, n_reim) : \n",
    "    lam,sig = lgm_params\n",
    "    mu_X_t = 0\n",
    "    std_X_t =sig * np.sqrt( (1 - np.exp(-2 * lam *t )) / (2 * lam) )\n",
    "\n",
    "    train_range = ( mu_X_t-n_std*std_X_t, mu_X_t+n_std*std_X_t )\n",
    "\n",
    "    # Pricing \n",
    "    X = np.linspace(train_range[0], train_range[1], n_reim)\n",
    "    mtm = portfolio.Mtm_mono(t,X,ZC,lgm_params)\n",
    "\n",
    "    Y = np.maximum(mtm, 0)*norm.pdf(X, mu_X_t, std_X_t)\n",
    "\n",
    "    return ZC.initial_zcb_curve(t) * (np.diff(X)*Y[1:]).sum()"
   ]
  },
  {
   "cell_type": "code",
   "execution_count": 40,
   "metadata": {},
   "outputs": [],
   "source": [
    "with open(MC_path +'\\EE_MC_converged60000_P400swapfX1' ,'rb') as f:\n",
    "    EE_MC= pickle.load(f)"
   ]
  },
  {
   "cell_type": "code",
   "execution_count": 42,
   "metadata": {},
   "outputs": [
    {
     "data": {
      "image/png": "[encoded data removed]",
      "text/plain": [
       "<Figure size 432x288 with 1 Axes>"
      ]
     },
     "metadata": {
      "needs_background": "light"
     },
     "output_type": "display_data"
    }
   ],
   "source": [
    "time_grid = np.linspace(0,T,500)\n",
    "n_std , integ_pts = 5, 300\n",
    "\n",
    "#Proxy\n",
    "EE =np.array([ Expected_exposure_proxy(t, portfolio, lam, sig, ZC)  if 0<t and t<T else 0 for t in time_grid])\n",
    "PD = np.array([ lamda * np.exp(-lamda *t) for t in time_grid])\n",
    "Y = (1-R)*EE*PD\n",
    "cva_proxy = (np.diff(time_grid)*Y[1:]).sum()\n",
    "\n",
    "#Numerical integration \n",
    "EE_integ =np.array([ Expected_exposure_benchmark(t, portfolio, ZC, lgm_params , n_std, integ_pts)  if 0<t and t<T else 0 for t in time_grid])\n",
    "\n",
    "cva_integ = (np.diff(time_grid)*((1-R)*EE_integ*PD)[1:]).sum()\n",
    "\n",
    "\n",
    "plt.plot(time_grid, EE_MC, label=\"Monte Carlo\" )\n",
    "plt.plot(time_grid, EE, label=\"Proxy\")\n",
    "plt.plot(time_grid, EE_integ, label=\"Numerical integration\" )\n",
    "\n",
    "plt.legend()\n",
    "plt.xlabel(r\"$Maturity$\")\n",
    "plt.ylabel(r\"$Exposure$\")\n",
    "plt.title(\"Expected Exposure\")\n",
    "plt.grid(False)\n"
   ]
  },
  {
   "cell_type": "code",
   "execution_count": 37,
   "metadata": {},
   "outputs": [],
   "source": []
  }
 ],
 "metadata": {
  "kernelspec": {
   "display_name": "Python 3",
   "language": "python",
   "name": "python3"
  },
  "language_info": {
   "codemirror_mode": {
    "name": "ipython",
    "version": 3
   },
   "file_extension": ".py",
   "mimetype": "text/x-python",
   "name": "python",
   "nbconvert_exporter": "python",
   "pygments_lexer": "ipython3",
   "version": "3.8.5"
  }
 },
 "nbformat": 4,
 "nbformat_minor": 4
}
