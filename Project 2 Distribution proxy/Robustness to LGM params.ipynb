{
 "cells": [
  {
   "cell_type": "markdown",
   "metadata": {},
   "source": [
    "# Proxy for the Mtm of swaps :"
   ]
  },
  {
   "cell_type": "code",
   "execution_count": 2,
   "metadata": {},
   "outputs": [],
   "source": [
    "project_path = r'C:\\Users\\omirinioui\\PycharmProjects\\Projet Quadrature bayésienne'"
   ]
  },
  {
   "cell_type": "code",
   "execution_count": 3,
   "metadata": {},
   "outputs": [],
   "source": [
    "lib_path = project_path+'\\libraries'\n",
    "port_path = project_path + '\\Data\\portfolio'\n",
    "zc_curve_path = project_path+'\\Data\\ZC Curve'\n",
    "diff_path = project_path + '\\Data\\Diffusion'\n",
    "MC_path =  project_path +'\\Results\\Full MC'\n",
    "img_path = project_path +'\\Results\\Images'\n"
   ]
  },
  {
   "cell_type": "code",
   "execution_count": 4,
   "metadata": {},
   "outputs": [],
   "source": [
    "import matplotlib.pyplot as plt\n",
    "import matplotlib.ticker as mtick\n",
    "import seaborn as sns\n",
    "import numpy as np\n",
    "import pandas as pd\n",
    "\n",
    "import  numpy as np\n",
    "\n",
    "from time import time\n",
    "from datetime import timedelta\n",
    "\n",
    "# importing pacakge \n",
    "import sys         \n",
    "sys.path.append(lib_path)        \n",
    "\n",
    "from main import *\n",
    "from FinancialData import *\n",
    "from Chebychev import *"
   ]
  },
  {
   "cell_type": "code",
   "execution_count": 5,
   "metadata": {},
   "outputs": [],
   "source": [
    "def GPR_Mtm_ploter(t, diff, irs, ZC, nodes_nbr, diag=False) :\n",
    "    train_range = (min(diff.X(t)) , max(diff.X(t)) )\n",
    "\n",
    "    # Pricing to train\n",
    "    train_points = np.linspace(train_range[0], train_range[1], nodes_nbr)\n",
    "    mtm_points = irs.Mtm_mono(t,train_points,ZC,diff.get_LGM_params())\n",
    "\n",
    "    # Train\n",
    "    gpr_model = GaussianProcessRegressor(kernel = kernel, normalize_y=True)\n",
    "    gpr_model.fit(train_points.reshape(nodes_nbr,1), mtm_points.reshape(nodes_nbr,1))\n",
    "\n",
    "\n",
    "    # Mtm Proxy\n",
    "    Mtm = gpr_predictor(gpr_model, np.sort(diff.X(t)).reshape(diff.nbr_scenarios,1))\n",
    "    Mtm_true = irs.Mtm_mono(t, np.sort(diff.X(t)),ZC,diff.get_LGM_params())\n",
    "    \n",
    "    if diag :\n",
    "        plt.plot(Mtm_true,  Mtm_true, c = 'red', label = 'true')\n",
    "        plt.scatter(Mtm_true, Mtm.reshape(diff.nbr_scenarios), label ='GPR')\n",
    "\n",
    "        plt.xlabel('True Mtm', fontsize = 15)   \n",
    "        plt.ylabel('GPR', fontsize = 15) \n",
    "        plt.legend()\n",
    "        plt.title(str(nodes_nbr)+' training points', fontdict = {'fontsize':16})\n",
    "        plt.show()\n",
    "    else :  \n",
    "        N = 400\n",
    "        x_range = np.linspace(train_range[0], train_range[1], N)\n",
    "        plt.plot(x_range, irs.Mtm_mono(t, x_range,ZC,diff.get_LGM_params()) , label='True')\n",
    "\n",
    "        plt.scatter(train_points,mtm_points,c='r')\n",
    "\n",
    "        plt.plot(np.sort(diff.X(t)) , Mtm.reshape(diff.nbr_scenarios) , label='GPR')\n",
    "\n",
    "        plt.legend()\n",
    "        plt.xlabel('$X_{t}$')\n",
    "        plt.ylabel(' Mark-to-Market')\n",
    "        plt.title(str(nodes_nbr) + ' training points' )\n",
    "        plt.show()\n",
    "\n",
    "def Chebyshev_Mtm_ploter(t, diff, irs, ZC, nodes_nbr,diag=False) :\n",
    "    train_range = (min(diff.X(t)) , max(diff.X(t)) )\n",
    "\n",
    "    # Pricing to train\n",
    "    train_points = np.sort(Chebyshev_points(train_range[0], train_range[1], nodes_nbr))\n",
    "    mtm_points = irs.Mtm_mono(t,train_points,ZC,diff.get_LGM_params())\n",
    "\n",
    "\n",
    "    # Mtm Proxy\n",
    "    Mtm = np.array([eval_Barycentric(mtm_points, train_points, x) for x in np.sort(diff.X(t))])\n",
    "    Mtm_true = irs.Mtm_mono(t, np.sort(diff.X(t)),ZC,diff.get_LGM_params())\n",
    "    \n",
    "    if diag :\n",
    "        plt.plot(Mtm_true,  Mtm_true, c = 'red', label = 'true')\n",
    "        plt.scatter(Mtm_true, Mtm, label ='Chebyshev')\n",
    "\n",
    "        plt.xlabel('True Mtm', fontsize = 15)   \n",
    "        plt.ylabel('Chebyshev', fontsize = 15) \n",
    "        plt.legend()\n",
    "        plt.title(str(nodes_nbr)+' training points', fontdict = {'fontsize':16})\n",
    "        plt.show()\n",
    "        \n",
    "    else :  \n",
    "        N = 400\n",
    "        x_range = np.linspace(train_range[0], train_range[1], N)\n",
    "        plt.plot(x_range, irs.Mtm_mono(t, x_range,ZC,diff.get_LGM_params()) , label='true')\n",
    "\n",
    "        plt.scatter(train_points,mtm_points,c='r')\n",
    "        plt.plot(np.sort(diff.X(t)) , Mtm , label='Chebyshev')\n",
    "\n",
    "        plt.legend()\n",
    "        plt.xlabel('$X_{t}$')\n",
    "        plt.ylabel(' Mark-to-Market')\n",
    "        plt.title(str(nodes_nbr) + ' training points' )\n",
    "        plt.show()\n",
    "\n",
    "def Chebyshev_Mtm(t, diff, irs, ZC, nodes_nbr) :\n",
    "    train_range = (min(diff.X(t)) , max(diff.X(t)) )\n",
    "\n",
    "    # Pricing to train\n",
    "    train_points = np.sort(Chebyshev_points(train_range[0], train_range[1], nodes_nbr))\n",
    "    mtm_points = irs.Mtm_mono(t,train_points,ZC,diff.get_LGM_params())\n",
    "\n",
    "\n",
    "    # Mtm Proxy\n",
    "    Mtm = np.array([eval_Barycentric(mtm_points, train_points, x) for x in np.sort(diff.X(t))])\n",
    "    Mtm_true = irs.Mtm_mono(t, np.sort(diff.X(t)),ZC,diff.get_LGM_params())\n",
    "    \n",
    "    return Mtm\n",
    "\n",
    "def GPR_Mtm(t, diff, irs, ZC, nodes_nbr, diag=False) :\n",
    "    train_range = (min(diff.X(t)) , max(diff.X(t)) )\n",
    "\n",
    "    # Pricing to train\n",
    "    train_points = np.linspace(train_range[0], train_range[1], nodes_nbr)\n",
    "    mtm_points = irs.Mtm_mono(t,train_points,ZC,diff.get_LGM_params())\n",
    "    \n",
    "    if (mtm_points == np.zeros(nodes_nbr) ).all():\n",
    "        return 0\n",
    "\n",
    "    # Train\n",
    "    gpr_model = GaussianProcessRegressor(kernel = kernel, normalize_y=True)\n",
    "    gpr_model.fit(train_points.reshape(nodes_nbr,1), mtm_points.reshape(nodes_nbr,1))\n",
    "\n",
    "\n",
    "    # Mtm Proxy\n",
    "    Mtm = gpr_predictor(gpr_model, np.sort(diff.X(t)).reshape(diff.nbr_scenarios,1))\n",
    "    \n",
    "    return Mtm.reshape(diff.nbr_scenarios)\n",
    "\n",
    "\n",
    "\n"
   ]
  },
  {
   "cell_type": "code",
   "execution_count": 6,
   "metadata": {},
   "outputs": [],
   "source": [
    "ZCR = ZC_Data_extractor(zc_curve_path)    \n",
    "ZC = zero_coupon_bonds(ZCR, 3) # We chose 3 as degree of the Spline Interpolation \n",
    "\n",
    "#load portfolio data\n",
    "with open(port_path+'\\port400irs1fx', 'rb') as f1:\n",
    "    portfolio = pickle.load(f1)\n",
    "    \n",
    "# Set Maturity     \n",
    "T = portfolio.last_maturity\n",
    "\n",
    "#load diffusion data\n",
    "with open(diff_path+'\\MC60000p400swap1fx', 'rb') as f1:\n",
    "    diff = pickle.load(f1)"
   ]
  },
  {
   "cell_type": "code",
   "execution_count": 7,
   "metadata": {},
   "outputs": [
    {
     "name": "stdout",
     "output_type": "stream",
     "text": [
      "Diffusion Time 0:00:03\n"
     ]
    }
   ],
   "source": [
    "#LGM params\n",
    "sig = 0.02 \n",
    "lam = 0.01\n",
    "\n",
    "\n",
    "#Diffusion params\n",
    "T = portfolio.last_maturity\n",
    "n =  int(T*360) +1 \n",
    "NBR_SCENARIOS = 60000\n",
    "\n",
    "tt= time()\n",
    "diff =Diffusion(0, T, n, sig, lam, NBR_SCENARIOS, pb_measure='Terminal at t')\n",
    "print( 'Diffusion Time',\"{}\".format(str( timedelta( seconds=round(time()-tt) ) )) )\n",
    "\n"
   ]
  },
  {
   "cell_type": "markdown",
   "metadata": {},
   "source": [
    "## 1. Gaussian proxy for the Mtm of a swap portfolio"
   ]
  },
  {
   "cell_type": "markdown",
   "metadata": {},
   "source": [
    "The implemented formulas are derived from LGM 1F using a 1st order Taylor approximation with respect to $X_{t}$ in the reconstruction formula under the terminal probability measure $\\mathbb{Q}_{t}$"
   ]
  },
  {
   "cell_type": "code",
   "execution_count": 8,
   "metadata": {},
   "outputs": [],
   "source": [
    "def quad_norm(x) :\n",
    "    return np.sum(np.sqrt(x))**2\n",
    "\n",
    "def beta(t,T,lam):\n",
    "    return (1 - np.exp(-lam * (T - t))) / lam\n",
    "\n",
    "def A(t,T,lam, sig, ZC): \n",
    "    zcb_t, zcb_T=  ZC.initial_zcb_curve(t) , ZC.initial_zcb_curve(T)\n",
    "    beta_ = beta(t,T,lam)\n",
    "    phi = (sig ** 2 ) * (1 - np.exp(-2 * lam * t)) / (2 * lam)\n",
    "    \n",
    "    return (zcb_T / zcb_t) * np.exp(-0.5 * beta_ ** 2 * phi)\n",
    "    \n",
    "def zcb_law_lgm(t,T,lam,sig,ZC) :\n",
    "    mu_X_t = 0\n",
    "    std_X_t = sig * np.sqrt( (1 - np.exp(-2 * lam *t )) / (2 *lam) )\n",
    "    \n",
    "    mean = A(t,T,lam,sig,ZC) * ( 1 - beta(t,T,lam) * mu_X_t)\n",
    "    std = std_X_t *A(t,T,lam,sig,ZC) * beta(t,T,lam)\n",
    "    \n",
    "    return mean, std\n",
    "\n",
    "\n",
    "def swap_law(t,swap, lam, sig,ZC) :\n",
    "    mu_X_t = 0\n",
    "    std_X_t = sig * np.sqrt( (1 - np.exp(-2 * lam *t )) / (2 *lam) )\n",
    "    if  swap.tenor[-2] < t:\n",
    "        return 0,0\n",
    "    else :\n",
    "        swap_type = (swap.exercice == \"payer\") * 2 - 1\n",
    "        maturities = swap.tenor[(swap.tenor < t).sum():]\n",
    "        \n",
    "\n",
    "        deltaK = np.zeros(maturities.shape[0])\n",
    "        coef = np.zeros(maturities.shape[0])\n",
    "\n",
    "        coef[0] = 1\n",
    "        coef[-1] = -1\n",
    "\n",
    "        deltaK[1:] = np.diff(maturities)*swap.strike\n",
    "\n",
    "        coef = coef - deltaK\n",
    "\n",
    "        A_ = A(t,maturities,lam, sig, ZC)\n",
    "        M = A_*beta(t,maturities,lam)\n",
    "\n",
    "        mean  = swap_type*swap.nominal*(np.dot(coef,A_) - np.dot(coef,M)*mu_X_t)\n",
    "\n",
    "        std = swap.nominal*np.dot(coef,M)*std_X_t\n",
    "\n",
    "        return mean , std\n",
    "\n",
    "\n",
    "def Mtm_proxy_law(t, portfolio, lam, sig, ZC):\n",
    "    swaps_law = np.array([ swap_law(t,swap, lam, sig,ZC) for swap in portfolio.swaps]) \n",
    "    mean_swaps = swaps_law[:,0]\n",
    "    std_swaps = swaps_law[:,1]\n",
    "    \n",
    "    var = quad_norm(std_swaps**2)\n",
    "    mean = np.sum(mean_swaps)\n",
    "    \n",
    "    return mean , np.sqrt(var)\n",
    "\n",
    "def Mtm_proxy(t, portfolio, lam, sig, ZC):\n",
    "    mu_X_t = 0\n",
    "    std_X_t = sig * np.sqrt( (1 - np.exp(-2 * lam *t )) / (2 *lam) )\n",
    "    \n",
    "    swaps_law = np.array([ swap_law(t,swap, lam, sig,ZC) for swap in portfolio.swaps]) \n",
    "    mean_swaps = swaps_law[:,0]\n",
    "    std_swaps = swaps_law[:,1]\n",
    "    \n",
    "    var = quad_norm(std_swaps**2)\n",
    "    mean = np.sum(mean_swaps)\n",
    "    \n",
    "    \n",
    "    \n",
    "    \n",
    "    return mean , np.sqrt(var)/std_X_t"
   ]
  },
  {
   "cell_type": "code",
   "execution_count": 11,
   "metadata": {},
   "outputs": [
    {
     "data": {
      "image/png": "[encoded data removed]",
      "text/plain": [
       "<Figure size 432x288 with 1 Axes>"
      ]
     },
     "metadata": {
      "needs_background": "light"
     },
     "output_type": "display_data"
    }
   ],
   "source": [
    "\n",
    "irs = portfolio\n",
    "\n",
    "t = 2\n",
    "\n",
    "Vt=irs.Mtm(t,diff,ZC)\n",
    "\n",
    "\n",
    "sns.distplot(Vt, hist = True, bins=20, kde = True, kde_kws={ 'linewidth': 1}, label ='Monte Carlo')\n",
    "# Plot the PDF.\n",
    "xmin, xmax = plt.xlim()\n",
    "ax = np.linspace(xmin, xmax, 100)\n",
    "p = norm.pdf(ax, np.mean(Vt) ,  np.std(Vt))\n",
    "m,s = Mtm_proxy_law(t,irs, lam, sig,ZC)\n",
    "\n",
    "x_, x__ = m-5*s , m+5*s\n",
    "ax_ = np.linspace(x_, x__, 100)\n",
    "\n",
    "pt =  norm.pdf(ax_, m,s)\n",
    "plt.plot(ax,p,label='Gaussain Empirique')\n",
    "plt.plot(ax_,pt,label='Gaussain Théorique')\n",
    "\n",
    "plt.legend()\n",
    "plt.show()"
   ]
  },
  {
   "cell_type": "code",
   "execution_count": 12,
   "metadata": {},
   "outputs": [
    {
     "data": {
      "text/plain": [
       "(27451.483679322053, 234117.37613747228)"
      ]
     },
     "execution_count": 12,
     "metadata": {},
     "output_type": "execute_result"
    }
   ],
   "source": [
    " np.mean(Vt) ,  np.std(Vt)"
   ]
  },
  {
   "cell_type": "code",
   "execution_count": 13,
   "metadata": {},
   "outputs": [
    {
     "data": {
      "text/plain": [
       "(40728.11301127655, 231528.79204624152)"
      ]
     },
     "execution_count": 13,
     "metadata": {},
     "output_type": "execute_result"
    }
   ],
   "source": [
    " Mtm_proxy_law(t,irs, lam, sig,ZC)"
   ]
  },
  {
   "cell_type": "code",
   "execution_count": 14,
   "metadata": {},
   "outputs": [
    {
     "data": {
      "text/plain": [
       "<matplotlib.legend.Legend at 0x1df38bf7b50>"
      ]
     },
     "execution_count": 14,
     "metadata": {},
     "output_type": "execute_result"
    },
    {
     "data": {
      "image/png": "[encoded data removed]",
      "text/plain": [
       "<Figure size 432x288 with 1 Axes>"
      ]
     },
     "metadata": {
      "needs_background": "light"
     },
     "output_type": "display_data"
    }
   ],
   "source": [
    "Xt= np.sort(diff.X(t))\n",
    "\n",
    "Mtm_t = irs.Mtm_mono(t,Xt,ZC,diff.get_LGM_params())\n",
    "\n",
    "a,b =  Mtm_proxy(t, portfolio, lam, sig, ZC)\n",
    "\n",
    "plt.plot(Xt, Mtm_t,label='Monte Carlo' )\n",
    "plt.plot(Xt , a+b*Xt , label='Proxy')\n",
    "plt.xlabel('$X_{t}$')\n",
    "plt.ylabel('Mark-to-market')\n",
    "plt.grid(False)\n",
    "plt.legend()"
   ]
  },
  {
   "cell_type": "markdown",
   "metadata": {},
   "source": [
    "We remind that here $\\sigma = 0.2 \\%$"
   ]
  },
  {
   "cell_type": "code",
   "execution_count": 102,
   "metadata": {},
   "outputs": [],
   "source": [
    "def Expected_exposure_proxy(t, portfolio, lam, sig, ZC) :\n",
    "    mu , sigma = Mtm_proxy_law(t, portfolio, lam, sig, ZC)\n",
    "    if sigma == 0:\n",
    "        return 0\n",
    "    return ZC.initial_zcb_curve(t)*(mu*norm.cdf(mu/sigma) + sigma*norm.pdf(mu/sigma))\n",
    "\n",
    "def Expected_exposure_benchmark(t, portfolio, ZC, lgm_params , n_std, n_reim) : \n",
    "    lam, sig = lgm_params\n",
    "    mu_X_t = 0\n",
    "    std_X_t =sig * np.sqrt( (1 - np.exp(-2 * lam *t )) / (2 * lam) )\n",
    "\n",
    "    train_range = ( mu_X_t-n_std*std_X_t, mu_X_t+n_std*std_X_t )\n",
    "\n",
    "    # Pricing \n",
    "    X = np.linspace(train_range[0], train_range[1], n_reim)\n",
    "    mtm = portfolio.Mtm_mono(t,X,ZC,lgm_params)\n",
    "\n",
    "    Y = np.maximum(mtm, 0)*norm.pdf(X, mu_X_t, std_X_t)\n",
    "\n",
    "    return ZC.initial_zcb_curve(t) * (np.diff(X)*Y[1:]).sum()"
   ]
  },
  {
   "cell_type": "markdown",
   "metadata": {},
   "source": [
    "## 2. Test de validité sur $(\\lambda , \\sigma)$ en utilisant EE : "
   ]
  },
  {
   "cell_type": "code",
   "execution_count": 178,
   "metadata": {},
   "outputs": [],
   "source": [
    "t=3\n",
    "sig_values = np.array([0.005,0.0075,0.01,0.0125,0.0150,0.0175,0.02,0.025,0.025])\n",
    "lam_values = np.array([0.01,0.015, 0.02, 0.025, 0.03, 0.035, 0.04 ,0.045, 0.05])"
   ]
  },
  {
   "cell_type": "code",
   "execution_count": 36,
   "metadata": {},
   "outputs": [],
   "source": [
    "# to RUN CALCULATION\n",
    "# sig_values = np.array([0.005,0.0075,0.01,0.0125,0.0150,0.0175,0.02,0.025,0.025])\n",
    "# lam_values = np.array([0.01,0.015, 0.02, 0.025, 0.03, 0.035, 0.04 ,0.045, 0.05])\n",
    "# EE_proxy = np.empty((sig_values.shape[0] , lam_values.shape[0]))\n",
    "# EE_MC =  np.empty((sig_values.shape[0] , lam_values.shape[0]))\n",
    "# for sig in sig_values :\n",
    "#     i = list(sig_values).index(sig)\n",
    "#     for lam in lam_values :\n",
    "#         j = list(lam_values).index(lam)\n",
    "#         diff = Diffusion(0, T, n, sig, lam, 60000, pb_measure='Terminal at t')\n",
    "        \n",
    "#         EE_proxy[i,j] = Expected_exposure_proxy(t, portfolio, lam, sig, ZC)\n",
    "#         EE_MC[i,j] = Expected_exposure_MC(t, portfolio, diff, ZC)\n"
   ]
  },
  {
   "cell_type": "code",
   "execution_count": 61,
   "metadata": {},
   "outputs": [
    {
     "data": {
      "text/html": [
       "<div>\n",
       "<style scoped>\n",
       "    .dataframe tbody tr th:only-of-type {\n",
       "        vertical-align: middle;\n",
       "    }\n",
       "\n",
       "    .dataframe tbody tr th {\n",
       "        vertical-align: top;\n",
       "    }\n",
       "\n",
       "    .dataframe thead th {\n",
       "        text-align: right;\n",
       "    }\n",
       "</style>\n",
       "<table border=\"1\" class=\"dataframe\">\n",
       "  <thead>\n",
       "    <tr style=\"text-align: right;\">\n",
       "      <th></th>\n",
       "      <th>1.0</th>\n",
       "      <th>1.5</th>\n",
       "      <th>2.0</th>\n",
       "      <th>2.5</th>\n",
       "      <th>3.0</th>\n",
       "      <th>3.5</th>\n",
       "      <th>4.0</th>\n",
       "      <th>4.5</th>\n",
       "      <th>5.0</th>\n",
       "    </tr>\n",
       "  </thead>\n",
       "  <tbody>\n",
       "    <tr>\n",
       "      <th>0.50</th>\n",
       "      <td>0.9</td>\n",
       "      <td>1.1</td>\n",
       "      <td>1.1</td>\n",
       "      <td>0.6</td>\n",
       "      <td>0.2</td>\n",
       "      <td>0.5</td>\n",
       "      <td>0.6</td>\n",
       "      <td>0.7</td>\n",
       "      <td>1.3</td>\n",
       "    </tr>\n",
       "    <tr>\n",
       "      <th>0.75</th>\n",
       "      <td>0.8</td>\n",
       "      <td>1.0</td>\n",
       "      <td>1.2</td>\n",
       "      <td>1.3</td>\n",
       "      <td>0.8</td>\n",
       "      <td>1.1</td>\n",
       "      <td>1.6</td>\n",
       "      <td>1.3</td>\n",
       "      <td>1.5</td>\n",
       "    </tr>\n",
       "    <tr>\n",
       "      <th>1.00</th>\n",
       "      <td>0.5</td>\n",
       "      <td>1.5</td>\n",
       "      <td>1.6</td>\n",
       "      <td>2.3</td>\n",
       "      <td>1.7</td>\n",
       "      <td>2.4</td>\n",
       "      <td>0.9</td>\n",
       "      <td>1.2</td>\n",
       "      <td>2.1</td>\n",
       "    </tr>\n",
       "    <tr>\n",
       "      <th>1.25</th>\n",
       "      <td>2.4</td>\n",
       "      <td>2.2</td>\n",
       "      <td>3.1</td>\n",
       "      <td>1.7</td>\n",
       "      <td>2.1</td>\n",
       "      <td>2.7</td>\n",
       "      <td>2.4</td>\n",
       "      <td>2.1</td>\n",
       "      <td>1.9</td>\n",
       "    </tr>\n",
       "    <tr>\n",
       "      <th>1.50</th>\n",
       "      <td>3.7</td>\n",
       "      <td>2.8</td>\n",
       "      <td>3.2</td>\n",
       "      <td>2.7</td>\n",
       "      <td>2.9</td>\n",
       "      <td>2.8</td>\n",
       "      <td>3.2</td>\n",
       "      <td>3.1</td>\n",
       "      <td>2.7</td>\n",
       "    </tr>\n",
       "    <tr>\n",
       "      <th>1.75</th>\n",
       "      <td>4.4</td>\n",
       "      <td>3.3</td>\n",
       "      <td>3.5</td>\n",
       "      <td>3.5</td>\n",
       "      <td>3.4</td>\n",
       "      <td>3.0</td>\n",
       "      <td>3.6</td>\n",
       "      <td>3.7</td>\n",
       "      <td>3.0</td>\n",
       "    </tr>\n",
       "    <tr>\n",
       "      <th>2.00</th>\n",
       "      <td>4.3</td>\n",
       "      <td>4.5</td>\n",
       "      <td>5.1</td>\n",
       "      <td>3.8</td>\n",
       "      <td>5.0</td>\n",
       "      <td>4.2</td>\n",
       "      <td>4.0</td>\n",
       "      <td>4.4</td>\n",
       "      <td>4.3</td>\n",
       "    </tr>\n",
       "    <tr>\n",
       "      <th>2.50</th>\n",
       "      <td>5.6</td>\n",
       "      <td>5.1</td>\n",
       "      <td>5.4</td>\n",
       "      <td>4.4</td>\n",
       "      <td>6.5</td>\n",
       "      <td>4.6</td>\n",
       "      <td>4.9</td>\n",
       "      <td>4.8</td>\n",
       "      <td>5.2</td>\n",
       "    </tr>\n",
       "  </tbody>\n",
       "</table>\n",
       "</div>"
      ],
      "text/plain": [
       "      1.0  1.5  2.0  2.5  3.0  3.5  4.0  4.5  5.0\n",
       "0.50  0.9  1.1  1.1  0.6  0.2  0.5  0.6  0.7  1.3\n",
       "0.75  0.8  1.0  1.2  1.3  0.8  1.1  1.6  1.3  1.5\n",
       "1.00  0.5  1.5  1.6  2.3  1.7  2.4  0.9  1.2  2.1\n",
       "1.25  2.4  2.2  3.1  1.7  2.1  2.7  2.4  2.1  1.9\n",
       "1.50  3.7  2.8  3.2  2.7  2.9  2.8  3.2  3.1  2.7\n",
       "1.75  4.4  3.3  3.5  3.5  3.4  3.0  3.6  3.7  3.0\n",
       "2.00  4.3  4.5  5.1  3.8  5.0  4.2  4.0  4.4  4.3\n",
       "2.50  5.6  5.1  5.4  4.4  6.5  4.6  4.9  4.8  5.2"
      ]
     },
     "execution_count": 61,
     "metadata": {},
     "output_type": "execute_result"
    }
   ],
   "source": [
    "res = pd.DataFrame(100*abs(EE_proxy-EE_MC)/abs(EE_MC), columns= 100*lam_values, index=100*sig_values[:-1]).round(1)\n",
    "res"
   ]
  },
  {
   "cell_type": "code",
   "execution_count": 62,
   "metadata": {},
   "outputs": [
    {
     "data": {
      "text/plain": [
       "<Axes: >"
      ]
     },
     "execution_count": 62,
     "metadata": {},
     "output_type": "execute_result"
    },
    {
     "data": {
      "image/png": "[encoded data removed]",
      "text/plain": [
       "<Figure size 432x288 with 2 Axes>"
      ]
     },
     "metadata": {
      "needs_background": "light"
     },
     "output_type": "display_data"
    }
   ],
   "source": [
    "sns.heatmap(res, annot=True)"
   ]
  },
  {
   "cell_type": "markdown",
   "metadata": {},
   "source": [
    "## 2. Test de validité sur $(\\lambda , \\sigma)$ pour la CVA : "
   ]
  },
  {
   "cell_type": "code",
   "execution_count": 21,
   "metadata": {},
   "outputs": [],
   "source": [
    "sig_values = np.array([0.005,0.01,0.0150,0.02])\n",
    "lam_values = np.array([0.01, 0.02, 0.03, 0.04])\n"
   ]
  },
  {
   "cell_type": "markdown",
   "metadata": {},
   "source": [
    "Comme la mean reav $\\lambda$ n'influence pas beaucoup sur la qualité du proxy, les figures suivantes sont pour $\\lambda =1\\%$"
   ]
  },
  {
   "cell_type": "code",
   "execution_count": 118,
   "metadata": {},
   "outputs": [
    {
     "data": {
      "image/png": "[encoded data removed]",
      "text/plain": [
       "<Figure size 936x720 with 4 Axes>"
      ]
     },
     "metadata": {
      "needs_background": "light"
     },
     "output_type": "display_data"
    }
   ],
   "source": [
    "lam= 0.01\n",
    "t= 3\n",
    "\n",
    "fig, axes = plt.subplots(2,2, figsize=(13, 10))\n",
    "\n",
    "for sig in sig_values :\n",
    "    i = list(sig_values).index(sig)\n",
    "    \n",
    "    diff = Diffusion(0, T, n, sig, lam, 60000, pb_measure='Terminal at t')\n",
    "    Vt=irs.Mtm(t,diff,ZC)\n",
    "    \n",
    "    plt.subplot(2,2,i+1)\n",
    "    \n",
    "    sns.distplot(Vt, hist = True, bins=20, kde = True, kde_kws={ 'linewidth': 1}, label ='Monte Carlo')\n",
    "    # Plot the PDF\n",
    "    xmin, xmax = plt.xlim()\n",
    "    ax = np.linspace(xmin, xmax, 100)\n",
    "    p = norm.pdf(ax, np.mean(Vt) ,  np.std(Vt))\n",
    "    plt.plot(ax,p,label='Empirical Gaussian')\n",
    "    \n",
    "    m,s = Mtm_proxy_law(t,irs, lam, sig,ZC)\n",
    "    x_, x__ = m-5*s , m+5*s\n",
    "    ax_ = np.linspace(x_, x__, 100)\n",
    "    pt =  norm.pdf(ax_, m,s)\n",
    "    plt.plot(ax_,pt,label='Gaussian Proxy')\n",
    "    \n",
    "    if 100*sig%1 == 0:\n",
    "        plt.title('$\\sigma$ = '+str(int(100*sig))+'%')\n",
    "    else :\n",
    "        plt.title('$\\sigma$ = '+str(100*sig)+'%')\n",
    "    plt.legend()\n"
   ]
  },
  {
   "cell_type": "code",
   "execution_count": 11,
   "metadata": {},
   "outputs": [],
   "source": [
    "# Save the following results \n",
    "proxy_path = project_path +'\\Results\\proxy'"
   ]
  },
  {
   "cell_type": "code",
   "execution_count": 22,
   "metadata": {},
   "outputs": [],
   "source": [
    "#recovery rate & defult probability parameter :\n",
    "R, lamda = 0.4, 0.005\n",
    "\n",
    "time_grid = np.linspace(0,T,500)\n",
    "PD = np.array([ lamda * np.exp(-lamda *t) for t in time_grid])\n",
    "lam = 0.01\n",
    "\n"
   ]
  },
  {
   "cell_type": "code",
   "execution_count": null,
   "metadata": {},
   "outputs": [
    {
     "name": "stdout",
     "output_type": "stream",
     "text": [
      "------------ sig =  0.01\n",
      "proxy done in  0:00:10\n"
     ]
    }
   ],
   "source": [
    "# To Run Calculation \n",
    "\n",
    "# sig_values = np.array([0.01,0.0150,0.02])\n",
    "\n",
    "\n",
    "# cva_proxy = np.empty(sig_values.shape[0] )\n",
    "# cva_MC = np.empty(sig_values.shape[0])\n",
    "# EE_proxy = np.empty((sig_values.shape[0] , 500 ))\n",
    "# EE_MC =  np.empty((sig_values.shape[0], 500 ))\n",
    "\n",
    "# for sig in sig_values :\n",
    "#     i = list(sig_values).index(sig)\n",
    "\n",
    "#     diff = Diffusion(0, T, n, sig, lam, 60000, pb_measure='Terminal at t')\n",
    "#     print('------------ sig = ', sig)\n",
    "    \n",
    "#     tt= time()\n",
    "#     EE = np.array([ Expected_exposure_proxy(t, portfolio, lam, sig, ZC)  if 0<t and t<T else 0 for t in time_grid])\n",
    "#     cva_proxy[i] = (np.diff(time_grid)*((1-R)*EE*PD)[1:]).sum()\n",
    "#     EE_proxy[i] = EE\n",
    "#     print('proxy done in ', \"{}\".format(str( timedelta( seconds=round(time()-tt) ) )))\n",
    "    \n",
    "#     tt=time()\n",
    "#     EE = np.array([ Expected_exposure_MC(t, portfolio, diff, ZC)  if 0<t and t<T else 0 for t in time_grid])\n",
    "#     cva_MC[i] = (np.diff(time_grid)*((1-R)*EE*PD)[1:]).sum()\n",
    "#     EE_MC[i] = EE\n",
    "    \n",
    "#     print('MC done in', \"{}\".format(str( timedelta( seconds=round(time()-tt) ) )))\n",
    "    \n",
    "#     with open(result_path+'\\Cva_Robustness_test_lam1' ,'wb') as f:\n",
    "#         pickle.dump(EE_MC,f)\n",
    "#         pickle.dump(EE_proxy,f)\n",
    "#         pickle.dump(cva_MC,f)\n",
    "#         pickle.dump(cva_proxy,f)\n",
    "\n",
    "# n_std , integ_pts = 5, 300\n",
    "# cva_numerical_integ = np.empty(sig_values.shape[0])\n",
    "# for sig in sig_values :\n",
    "#     i = list(sig_values).index(sig)\n",
    "    \n",
    "#     diff = Diffusion(0, T, n, sig, lam, 60000, pb_measure='Terminal at t')\n",
    "    \n",
    "#     EE =np.array([ Expected_exposure_benchmark(t, portfolio, ZC, (lam,sig) , n_std, integ_pts)  if 0<t and t<T else 0 for t in time_grid])\n",
    "#     Y = (1-R)*EE*PD\n",
    "#     plt.plot(time_grid , EE, label=str(100*sig))\n",
    "#     cva_numerical_integ[i] = (np.diff(time_grid)*Y[1:]).sum()\n",
    "\n"
   ]
  },
  {
   "cell_type": "code",
   "execution_count": 172,
   "metadata": {},
   "outputs": [],
   "source": [
    "# Get calculated resutlts \n",
    "\n",
    "with open(proxy_path+'\\Cva_Robustness_test_lam1' ,'rb') as f:\n",
    "    EE_MC = pickle.load(f)\n",
    "    EE_proxy = pickle.load(f)\n",
    "    cva_MC = pickle.load(f)\n",
    "    cva_proxy =pickle.load(f)\n",
    "    cva_integration=pickle.load(f)"
   ]
  },
  {
   "cell_type": "code",
   "execution_count": 173,
   "metadata": {},
   "outputs": [],
   "source": [
    "cva_df = pd.DataFrame(columns=['Numerical Integration','Monte Carlo', 'Proxy'] , index=sig_values)\n",
    "\n",
    "cva_df['Numerical Integration'] =cva_numerical_integ\n",
    "cva_df['Monte Carlo'] =cva_MC\n",
    "cva_df['Proxy'] =cva_proxy\n",
    "cva_df = cva_df.astype(int) \n",
    "    "
   ]
  },
  {
   "cell_type": "code",
   "execution_count": 174,
   "metadata": {},
   "outputs": [
    {
     "data": {
      "text/html": [
       "<div>\n",
       "<style scoped>\n",
       "    .dataframe tbody tr th:only-of-type {\n",
       "        vertical-align: middle;\n",
       "    }\n",
       "\n",
       "    .dataframe tbody tr th {\n",
       "        vertical-align: top;\n",
       "    }\n",
       "\n",
       "    .dataframe thead th {\n",
       "        text-align: right;\n",
       "    }\n",
       "</style>\n",
       "<table border=\"1\" class=\"dataframe\">\n",
       "  <thead>\n",
       "    <tr style=\"text-align: right;\">\n",
       "      <th></th>\n",
       "      <th>Numerical Integration</th>\n",
       "      <th>Monte Carlo</th>\n",
       "      <th>Proxy</th>\n",
       "    </tr>\n",
       "  </thead>\n",
       "  <tbody>\n",
       "    <tr>\n",
       "      <th>0.005</th>\n",
       "      <td>432</td>\n",
       "      <td>431</td>\n",
       "      <td>435</td>\n",
       "    </tr>\n",
       "    <tr>\n",
       "      <th>0.010</th>\n",
       "      <td>629</td>\n",
       "      <td>628</td>\n",
       "      <td>642</td>\n",
       "    </tr>\n",
       "    <tr>\n",
       "      <th>0.015</th>\n",
       "      <td>845</td>\n",
       "      <td>841</td>\n",
       "      <td>874</td>\n",
       "    </tr>\n",
       "    <tr>\n",
       "      <th>0.020</th>\n",
       "      <td>1066</td>\n",
       "      <td>1062</td>\n",
       "      <td>1116</td>\n",
       "    </tr>\n",
       "  </tbody>\n",
       "</table>\n",
       "</div>"
      ],
      "text/plain": [
       "       Numerical Integration  Monte Carlo  Proxy\n",
       "0.005                    432          431    435\n",
       "0.010                    629          628    642\n",
       "0.015                    845          841    874\n",
       "0.020                   1066         1062   1116"
      ]
     },
     "execution_count": 174,
     "metadata": {},
     "output_type": "execute_result"
    }
   ],
   "source": [
    "cva_df"
   ]
  },
  {
   "cell_type": "code",
   "execution_count": 175,
   "metadata": {},
   "outputs": [],
   "source": [
    "# Compute Error : Numerical integration is the benchmark\n",
    "mtm = np.mean(portfolio.Mtm(0, diff,ZC))\n",
    "cva_df['MC Error'] = np.abs( 100*(cva_df['Monte Carlo'] - cva_df['Numerical Integration'] )/mtm)\n",
    "cva_df['Proxy Error'] = np.abs( 100*(cva_df['Proxy'] - cva_df['Numerical Integration'] )/mtm)"
   ]
  },
  {
   "cell_type": "code",
   "execution_count": 176,
   "metadata": {},
   "outputs": [
    {
     "data": {
      "text/html": [
       "<div>\n",
       "<style scoped>\n",
       "    .dataframe tbody tr th:only-of-type {\n",
       "        vertical-align: middle;\n",
       "    }\n",
       "\n",
       "    .dataframe tbody tr th {\n",
       "        vertical-align: top;\n",
       "    }\n",
       "\n",
       "    .dataframe thead th {\n",
       "        text-align: right;\n",
       "    }\n",
       "</style>\n",
       "<table border=\"1\" class=\"dataframe\">\n",
       "  <thead>\n",
       "    <tr style=\"text-align: right;\">\n",
       "      <th></th>\n",
       "      <th>Numerical Integration</th>\n",
       "      <th>Monte Carlo</th>\n",
       "      <th>Proxy</th>\n",
       "      <th>MC Error</th>\n",
       "      <th>Proxy Error</th>\n",
       "    </tr>\n",
       "  </thead>\n",
       "  <tbody>\n",
       "    <tr>\n",
       "      <th>0.005</th>\n",
       "      <td>432</td>\n",
       "      <td>431</td>\n",
       "      <td>435</td>\n",
       "      <td>0.00</td>\n",
       "      <td>0.01</td>\n",
       "    </tr>\n",
       "    <tr>\n",
       "      <th>0.010</th>\n",
       "      <td>629</td>\n",
       "      <td>628</td>\n",
       "      <td>642</td>\n",
       "      <td>0.00</td>\n",
       "      <td>0.02</td>\n",
       "    </tr>\n",
       "    <tr>\n",
       "      <th>0.015</th>\n",
       "      <td>845</td>\n",
       "      <td>841</td>\n",
       "      <td>874</td>\n",
       "      <td>0.01</td>\n",
       "      <td>0.05</td>\n",
       "    </tr>\n",
       "    <tr>\n",
       "      <th>0.020</th>\n",
       "      <td>1066</td>\n",
       "      <td>1062</td>\n",
       "      <td>1116</td>\n",
       "      <td>0.01</td>\n",
       "      <td>0.09</td>\n",
       "    </tr>\n",
       "  </tbody>\n",
       "</table>\n",
       "</div>"
      ],
      "text/plain": [
       "       Numerical Integration  Monte Carlo  Proxy  MC Error  Proxy Error\n",
       "0.005                    432          431    435      0.00         0.01\n",
       "0.010                    629          628    642      0.00         0.02\n",
       "0.015                    845          841    874      0.01         0.05\n",
       "0.020                   1066         1062   1116      0.01         0.09"
      ]
     },
     "execution_count": 176,
     "metadata": {},
     "output_type": "execute_result"
    }
   ],
   "source": [
    "cva_df.round(2)"
   ]
  },
  {
   "cell_type": "markdown",
   "metadata": {},
   "source": [
    "  - Conclusion : The gaussian proxy is good for CVA calculations as $\\sigma$ is small"
   ]
  }
 ],
 "metadata": {
  "kernelspec": {
   "display_name": "Python 3",
   "language": "python",
   "name": "python3"
  },
  "language_info": {
   "codemirror_mode": {
    "name": "ipython",
    "version": 3
   },
   "file_extension": ".py",
   "mimetype": "text/x-python",
   "name": "python",
   "nbconvert_exporter": "python",
   "pygments_lexer": "ipython3",
   "version": "3.9.13"
  }
 },
 "nbformat": 4,
 "nbformat_minor": 4
}
